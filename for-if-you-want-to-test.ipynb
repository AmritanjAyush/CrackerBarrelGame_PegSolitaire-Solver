{
  "cells": [
    {
      "cell_type": "code",
      "execution_count": 15,
      "metadata": {
        "id": "PJlfAAUTorWZ"
      },
      "outputs": [],
      "source": [
        "import networkx as nx\n",
        "import matplotlib.pyplot as plt\n",
        "from pathlib import Path\n",
        "import imageio"
      ]
    },
    {
      "cell_type": "code",
      "execution_count": 18,
      "metadata": {
        "colab": {
          "base_uri": "https://localhost:8080/",
          "height": 366
        },
        "id": "CgiRFZ4lorWc",
        "outputId": "7adb221d-e0b3-41d8-fa56-dc59cf2be506"
      },
      "outputs": [
        {
          "data": {
            "image/png": "[encoded data removed]",
            "text/plain": [
              "<Figure size 432x288 with 1 Axes>"
            ]
          },
          "metadata": {},
          "output_type": "display_data"
        }
      ],
      "source": [
        "first_id_in_row = lambda row: sum(range(row+1))\n",
        "height = 5\n",
        "initial_empty = [14]\n",
        "graph = nx.Graph()\n",
        "graph_labels = {}\n",
        "positions = {}\n",
        "initial_config = {}\n",
        "graph_colors = {'empty': 'grey', 'filled': 'cyan', 'moving':'orange', 'skipped':'red'}\n",
        "for row in range(height+1):\n",
        "    for col in range(row):\n",
        "        idx = sum(range(row)) + col\n",
        "        graph_labels[idx] = str(idx)\n",
        "        positions[idx] = ((col-(height+row)/2)*5, (height-row)*5)\n",
        "        graph.add_node(idx)\n",
        "        initial_config[idx] = 'filled'\n",
        "        if col < row-1:\n",
        "            graph.add_edge(idx, idx+1, typeof='lateral')\n",
        "        if row < height:\n",
        "            graph.add_edge(idx, idx+row, typeof='vertical_fwd')\n",
        "            graph.add_edge(idx, idx+row+1, typeof='vertical_back')\n",
        "for i in initial_empty:\n",
        "    initial_config[i] = 'empty'\n",
        "nx.draw(graph, labels = graph_labels, pos=positions, node_color=[graph_colors[initial_config[peg]] for peg in initial_config])"
      ]
    },
    {
      "cell_type": "code",
      "execution_count": 13,
      "metadata": {
        "id": "c6OayDNkorWf",
        "outputId": "c98ecba3-5ab8-4833-e268-7b0268438383"
      },
      "outputs": [
        {
          "data": {
            "text/plain": [
              "['cyan',\n",
              " 'cyan',\n",
              " 'cyan',\n",
              " 'cyan',\n",
              " 'grey',\n",
              " 'cyan',\n",
              " 'cyan',\n",
              " 'grey',\n",
              " 'cyan',\n",
              " 'cyan',\n",
              " 'cyan',\n",
              " 'cyan',\n",
              " 'cyan',\n",
              " 'cyan',\n",
              " 'cyan']"
            ]
          },
          "execution_count": 13,
          "metadata": {},
          "output_type": "execute_result"
        }
      ],
      "source": [
        "[graph_colors[initial_config[peg]] for peg in initial_config]"
      ]
    },
    {
      "cell_type": "code",
      "execution_count": 27,
      "metadata": {
        "id": "DC8jlRc7orWh"
      },
      "outputs": [],
      "source": [
        "def get_empty(configuration):\n",
        "  return [key for key, val in configuration.items() if val == 'empty']\n",
        "\n",
        "\n",
        "class Board:\n",
        "    def __init__(self, config, move = None):\n",
        "        self.data = config\n",
        "        self.children = []\n",
        "        self.move = move\n",
        "\n",
        "    def get_possibles(self):\n",
        "        current_config = self.data.copy()\n",
        "        for empty_node in get_empty(self.data):\n",
        "            print('assessing empty node {}'.format(empty_node))\n",
        "            for neighbor in graph.neighbors(empty_node):\n",
        "                print('\\tlooking at neighbor (node {})'.format(neighbor))\n",
        "                if self.data[neighbor] == 'filled':\n",
        "                    for second_degree_neighbor in filter(lambda x: x != empty_node, graph.neighbors(neighbor)):\n",
        "                        if graph.get_edge_data(neighbor, second_degree_neighbor)['typeof'] == graph.get_edge_data(neighbor, empty_node)['typeof'] and self.data[second_degree_neighbor] == 'filled':\n",
        "                            current_config.update({second_degree_neighbor:'moving'})\n",
        "                            break\n",
        "        return current_config\n",
        "\n",
        "    def generate_children(self):\n",
        "        for empty_node in get_empty(self.data):\n",
        "            for neighbor in graph.neighbors(empty_node):\n",
        "                if self.data[neighbor] == 'filled':\n",
        "                    for second_degree_neighbor in filter(lambda x: x != empty_node, graph.neighbors(neighbor)):\n",
        "                        if graph.get_edge_data(neighbor, second_degree_neighbor)['typeof'] ==graph.get_edge_data(neighbor, empty_node)['typeof'] and self.data[second_degree_neighbor] == 'filled':\n",
        "                            self.make_child({**self.data, **{empty_node:'filled', neighbor:'empty', second_degree_neighbor:'empty'}}, (second_degree_neighbor, neighbor, empty_node))\n",
        "                            break\n",
        "\n",
        "    def make_child(self, config, move = None):\n",
        "        self.children.append(Board(config, move))\n",
        "\n",
        "    def get_children(self):\n",
        "        return self.children\n",
        "\n",
        "    def count_children(self):\n",
        "        return len(self.children)\n",
        "\n",
        "    def score(self):\n",
        "        return sum(range(height+1)) - len(get_empty(self.data))\n",
        "    def __str__(self):\n",
        "        return str(self.data)\n",
        "\n",
        "\n",
        "\n",
        "def dfs_peg(root:(Board), best_score_ref, best_path_ref, path = []):\n",
        "    if root.score() < best_score_ref[0]:\n",
        "        print('Score: {}! UPDATING REF'.format(root.score()))\n",
        "        best_score_ref[0] = root.score()\n",
        "        best_path_ref[0] = path\n",
        "    root.generate_children()\n",
        "    branch = 0\n",
        "    if root.score() == 1:\n",
        "        return path\n",
        "    for child in root.get_children():\n",
        "        child_result = dfs_peg(child, best_score_ref, best_path_ref, path + [branch])\n",
        "        if child_result:\n",
        "            return child_result\n",
        "        branch = branch+1\n",
        "    return False\n",
        "\n",
        "def print_winning_moves(root:(Board), child_choices:list[int]):\n",
        "    for child_idx in child_choices:\n",
        "        root = root.get_children()[child_idx]\n",
        "        print(child_idx)\n",
        "\n",
        "def get_winning_moves(root:(Board), child_choices:list[int]):\n",
        "    moves = []\n",
        "    print('children: {}'.format(child_choices))\n",
        "    for child_idx in child_choices:\n",
        "        root = root.get_children()[child_idx]\n",
        "        moves.append(root.move)\n",
        "    return moves\n"
      ]
    },
    {
      "cell_type": "code",
      "execution_count": 28,
      "metadata": {
        "id": "dGJQZJkqorWk"
      },
      "outputs": [
        {
          "name": "stdout",
          "output_type": "stream",
          "text": [
            "Score: 13! UPDATING REF\n",
            "Score: 12! UPDATING REF\n",
            "Score: 11! UPDATING REF\n",
            "Score: 10! UPDATING REF\n",
            "Score: 9! UPDATING REF\n",
            "Score: 8! UPDATING REF\n",
            "Score: 7! UPDATING REF\n",
            "Score: 6! UPDATING REF\n",
            "Score: 5! UPDATING REF\n",
            "Score: 4! UPDATING REF\n",
            "Score: 3! UPDATING REF\n",
            "Score: 2! UPDATING REF\n",
            "children: [0, 0, 0, 2, 2, 0, 3, 0, 1, 0, 0]\n"
          ]
        }
      ],
      "source": [
        "initial_board = Board(initial_config)\n",
        "best_score = [len(initial_config)]\n",
        "best_performance = [[]]\n",
        "child_chain = dfs_peg(initial_board, best_score, best_performance)\n",
        "winning_moves = None\n",
        "if child_chain:\n",
        "    winning_moves = get_winning_moves(initial_board, child_chain)\n",
        "else:\n",
        "    winning_moves = get_winning_moves(initial_board, best_performance[0])"
      ]
    },
    {
      "cell_type": "code",
      "execution_count": 29,
      "metadata": {
        "id": "tYObkZGWorWm"
      },
      "outputs": [],
      "source": [
        "def generate_winning_graphic(move_list, config, graphic_name, turn = 1):\n",
        "    from_node, skip_node, to_node = move_list[0]\n",
        "    config.update({from_node:'moving'})\n",
        "    nx.draw(graph, pos=positions, node_color=[graph_colors[config[node]] for node in graph.nodes()])\n",
        "    plt.savefig('{}/Turn {:02d} - Phase {}'.format(graphic_name, turn, 1))\n",
        "    plt.clf()\n",
        "    config.update({from_node:'empty', skip_node:'skipped', to_node:'moving'})\n",
        "    nx.draw(graph, pos=positions, node_color=[graph_colors[config[node]] for node in graph.nodes()])\n",
        "    plt.savefig('{}/Turn {:02d} - Phase {}'.format(graphic_name, turn, 2))\n",
        "    plt.clf()\n",
        "    config.update({skip_node:'empty', to_node:'filled'})\n",
        "    nx.draw(graph, pos=positions, node_color=[graph_colors[config[node]] for node in graph.nodes()])\n",
        "    plt.savefig('{}/Turn {:02d} - Phase {}'.format(graphic_name, turn, 3))\n",
        "    plt.clf()\n",
        "    print('turn {} done!'.format(turn))\n",
        "    if len(move_list) > 1:\n",
        "        generate_winning_graphic(move_list[1:], config, graphic_name, turn+1)"
      ]
    },
    {
      "cell_type": "code",
      "execution_count": 30,
      "metadata": {
        "id": "IFAwsH-KorWo",
        "outputId": "37f41ed7-1f4f-4189-fa0a-7bc0739c3c6d"
      },
      "outputs": [
        {
          "name": "stdout",
          "output_type": "stream",
          "text": [
            "turn 1 done!\n",
            "turn 2 done!\n",
            "turn 3 done!\n",
            "turn 4 done!\n",
            "turn 5 done!\n",
            "turn 6 done!\n",
            "turn 7 done!\n",
            "turn 8 done!\n",
            "turn 9 done!\n",
            "turn 10 done!\n",
            "turn 11 done!\n"
          ]
        },
        {
          "data": {
            "text/plain": [
              "<Figure size 432x288 with 0 Axes>"
            ]
          },
          "metadata": {},
          "output_type": "display_data"
        }
      ],
      "source": [
        "graphic_name = 'winning_moves'\n",
        "output_path = Path.cwd().joinpath(graphic_name)\n",
        "output_path.mkdir(parents=True, exist_ok=True)\n",
        "generate_winning_graphic(winning_moves, initial_config, graphic_name)"
      ]
    },
    {
      "cell_type": "code",
      "execution_count": 32,
      "metadata": {
        "id": "hRyFC3hMorWp"
      },
      "outputs": [
        {
          "name": "stdout",
          "output_type": "stream",
          "text": [
            "/Users/omzooz/Documents/projects/peg-solver/winning_moves/Turn 01 - Phase 1.png\n",
            "/Users/omzooz/Documents/projects/peg-solver/winning_moves/Turn 01 - Phase 2.png\n",
            "/Users/omzooz/Documents/projects/peg-solver/winning_moves/Turn 01 - Phase 3.png\n",
            "/Users/omzooz/Documents/projects/peg-solver/winning_moves/Turn 02 - Phase 1.png\n",
            "/Users/omzooz/Documents/projects/peg-solver/winning_moves/Turn 02 - Phase 2.png\n",
            "/Users/omzooz/Documents/projects/peg-solver/winning_moves/Turn 02 - Phase 3.png\n",
            "/Users/omzooz/Documents/projects/peg-solver/winning_moves/Turn 03 - Phase 1.png\n",
            "/Users/omzooz/Documents/projects/peg-solver/winning_moves/Turn 03 - Phase 2.png\n",
            "/Users/omzooz/Documents/projects/peg-solver/winning_moves/Turn 03 - Phase 3.png\n",
            "/Users/omzooz/Documents/projects/peg-solver/winning_moves/Turn 04 - Phase 1.png\n",
            "/Users/omzooz/Documents/projects/peg-solver/winning_moves/Turn 04 - Phase 2.png\n",
            "/Users/omzooz/Documents/projects/peg-solver/winning_moves/Turn 04 - Phase 3.png\n",
            "/Users/omzooz/Documents/projects/peg-solver/winning_moves/Turn 05 - Phase 1.png\n",
            "/Users/omzooz/Documents/projects/peg-solver/winning_moves/Turn 05 - Phase 2.png\n",
            "/Users/omzooz/Documents/projects/peg-solver/winning_moves/Turn 05 - Phase 3.png\n",
            "/Users/omzooz/Documents/projects/peg-solver/winning_moves/Turn 06 - Phase 1.png\n",
            "/Users/omzooz/Documents/projects/peg-solver/winning_moves/Turn 06 - Phase 2.png\n",
            "/Users/omzooz/Documents/projects/peg-solver/winning_moves/Turn 06 - Phase 3.png\n",
            "/Users/omzooz/Documents/projects/peg-solver/winning_moves/Turn 07 - Phase 1.png\n",
            "/Users/omzooz/Documents/projects/peg-solver/winning_moves/Turn 07 - Phase 2.png\n",
            "/Users/omzooz/Documents/projects/peg-solver/winning_moves/Turn 07 - Phase 3.png\n",
            "/Users/omzooz/Documents/projects/peg-solver/winning_moves/Turn 08 - Phase 1.png\n",
            "/Users/omzooz/Documents/projects/peg-solver/winning_moves/Turn 08 - Phase 2.png\n",
            "/Users/omzooz/Documents/projects/peg-solver/winning_moves/Turn 08 - Phase 3.png\n",
            "/Users/omzooz/Documents/projects/peg-solver/winning_moves/Turn 09 - Phase 1.png\n",
            "/Users/omzooz/Documents/projects/peg-solver/winning_moves/Turn 09 - Phase 2.png\n",
            "/Users/omzooz/Documents/projects/peg-solver/winning_moves/Turn 09 - Phase 3.png\n",
            "/Users/omzooz/Documents/projects/peg-solver/winning_moves/Turn 10 - Phase 1.png\n",
            "/Users/omzooz/Documents/projects/peg-solver/winning_moves/Turn 10 - Phase 2.png\n",
            "/Users/omzooz/Documents/projects/peg-solver/winning_moves/Turn 10 - Phase 3.png\n",
            "/Users/omzooz/Documents/projects/peg-solver/winning_moves/Turn 11 - Phase 1.png\n",
            "/Users/omzooz/Documents/projects/peg-solver/winning_moves/Turn 11 - Phase 2.png\n",
            "/Users/omzooz/Documents/projects/peg-solver/winning_moves/Turn 11 - Phase 3.png\n"
          ]
        }
      ],
      "source": [
        "file_list = sorted(output_path.glob('*.png'))\n",
        "frames = []\n",
        "for file in file_list:\n",
        "    print(file)\n",
        "    frames.append(imageio.imread(file))\n",
        "imageio.mimsave('output.gif', frames, duration = 0.75)"
      ]
    },
    {
      "cell_type": "code",
      "execution_count": 31,
      "metadata": {},
      "outputs": [
        {
          "data": {
            "text/plain": [
              "[PosixPath('/Users/omzooz/Documents/projects/peg-solver/winning_moves/Turn 01 - Phase 1.png'),\n",
              " PosixPath('/Users/omzooz/Documents/projects/peg-solver/winning_moves/Turn 01 - Phase 2.png'),\n",
              " PosixPath('/Users/omzooz/Documents/projects/peg-solver/winning_moves/Turn 01 - Phase 3.png'),\n",
              " PosixPath('/Users/omzooz/Documents/projects/peg-solver/winning_moves/Turn 02 - Phase 1.png'),\n",
              " PosixPath('/Users/omzooz/Documents/projects/peg-solver/winning_moves/Turn 02 - Phase 2.png'),\n",
              " PosixPath('/Users/omzooz/Documents/projects/peg-solver/winning_moves/Turn 02 - Phase 3.png'),\n",
              " PosixPath('/Users/omzooz/Documents/projects/peg-solver/winning_moves/Turn 03 - Phase 1.png'),\n",
              " PosixPath('/Users/omzooz/Documents/projects/peg-solver/winning_moves/Turn 03 - Phase 2.png'),\n",
              " PosixPath('/Users/omzooz/Documents/projects/peg-solver/winning_moves/Turn 03 - Phase 3.png'),\n",
              " PosixPath('/Users/omzooz/Documents/projects/peg-solver/winning_moves/Turn 04 - Phase 1.png'),\n",
              " PosixPath('/Users/omzooz/Documents/projects/peg-solver/winning_moves/Turn 04 - Phase 2.png'),\n",
              " PosixPath('/Users/omzooz/Documents/projects/peg-solver/winning_moves/Turn 04 - Phase 3.png'),\n",
              " PosixPath('/Users/omzooz/Documents/projects/peg-solver/winning_moves/Turn 05 - Phase 1.png'),\n",
              " PosixPath('/Users/omzooz/Documents/projects/peg-solver/winning_moves/Turn 05 - Phase 2.png'),\n",
              " PosixPath('/Users/omzooz/Documents/projects/peg-solver/winning_moves/Turn 05 - Phase 3.png'),\n",
              " PosixPath('/Users/omzooz/Documents/projects/peg-solver/winning_moves/Turn 06 - Phase 1.png'),\n",
              " PosixPath('/Users/omzooz/Documents/projects/peg-solver/winning_moves/Turn 06 - Phase 2.png'),\n",
              " PosixPath('/Users/omzooz/Documents/projects/peg-solver/winning_moves/Turn 06 - Phase 3.png'),\n",
              " PosixPath('/Users/omzooz/Documents/projects/peg-solver/winning_moves/Turn 07 - Phase 1.png'),\n",
              " PosixPath('/Users/omzooz/Documents/projects/peg-solver/winning_moves/Turn 07 - Phase 2.png'),\n",
              " PosixPath('/Users/omzooz/Documents/projects/peg-solver/winning_moves/Turn 07 - Phase 3.png'),\n",
              " PosixPath('/Users/omzooz/Documents/projects/peg-solver/winning_moves/Turn 08 - Phase 1.png'),\n",
              " PosixPath('/Users/omzooz/Documents/projects/peg-solver/winning_moves/Turn 08 - Phase 2.png'),\n",
              " PosixPath('/Users/omzooz/Documents/projects/peg-solver/winning_moves/Turn 08 - Phase 3.png'),\n",
              " PosixPath('/Users/omzooz/Documents/projects/peg-solver/winning_moves/Turn 09 - Phase 1.png'),\n",
              " PosixPath('/Users/omzooz/Documents/projects/peg-solver/winning_moves/Turn 09 - Phase 2.png'),\n",
              " PosixPath('/Users/omzooz/Documents/projects/peg-solver/winning_moves/Turn 09 - Phase 3.png'),\n",
              " PosixPath('/Users/omzooz/Documents/projects/peg-solver/winning_moves/Turn 10 - Phase 1.png'),\n",
              " PosixPath('/Users/omzooz/Documents/projects/peg-solver/winning_moves/Turn 10 - Phase 2.png'),\n",
              " PosixPath('/Users/omzooz/Documents/projects/peg-solver/winning_moves/Turn 10 - Phase 3.png'),\n",
              " PosixPath('/Users/omzooz/Documents/projects/peg-solver/winning_moves/Turn 11 - Phase 1.png'),\n",
              " PosixPath('/Users/omzooz/Documents/projects/peg-solver/winning_moves/Turn 11 - Phase 2.png'),\n",
              " PosixPath('/Users/omzooz/Documents/projects/peg-solver/winning_moves/Turn 11 - Phase 3.png')]"
            ]
          },
          "execution_count": 31,
          "metadata": {},
          "output_type": "execute_result"
        }
      ],
      "source": [
        "file_list"
      ]
    },
    {
      "cell_type": "code",
      "execution_count": null,
      "metadata": {},
      "outputs": [],
      "source": []
    }
  ],
  "metadata": {
    "colab": {
      "name": "solver.ipynb",
      "provenance": []
    },
    "interpreter": {
      "hash": "aee8b7b246df8f9039afb4144a1f6fd8d2ca17a180786b69acc140d282b71a49"
    },
    "kernelspec": {
      "display_name": "Python 3.9.1 64-bit",
      "language": "python",
      "name": "python3"
    },
    "language_info": {
      "codemirror_mode": {
        "name": "ipython",
        "version": 3
      },
      "file_extension": ".py",
      "mimetype": "text/x-python",
      "name": "python",
      "nbconvert_exporter": "python",
      "pygments_lexer": "ipython3",
      "version": "3.9.1"
    },
    "orig_nbformat": 4
  },
  "nbformat": 4,
  "nbformat_minor": 0
}
